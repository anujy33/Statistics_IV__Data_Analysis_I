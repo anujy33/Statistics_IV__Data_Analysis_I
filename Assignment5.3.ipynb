{
 "cells": [
  {
   "cell_type": "raw",
   "metadata": {},
   "source": [
    "Problem Statement 1:\n",
    "Calculate F Test for given 10, 20, 30, 40, 50 and 5,10,15, 20, 25.\n",
    "For 10, 20, 30, 40, 50:"
   ]
  },
  {
   "cell_type": "code",
   "execution_count": 9,
   "metadata": {},
   "outputs": [
    {
     "name": "stdout",
     "output_type": "stream",
     "text": [
      "F test for '10,20,30,40,50' is  4.0\n"
     ]
    }
   ],
   "source": [
    "dataset1 = [10,20,30,40,50]\n",
    "dataset2 = [5,10,15,20,25]\n",
    "\n",
    "d1_mean = sum(dataset1)/len(dataset1)\n",
    "d2_mean = sum(dataset2)/len(dataset2)\n",
    "\n",
    "def SD(list, mean):\n",
    "    var_i = []\n",
    "    for i in list:\n",
    "        val1 = ((i - mean)**2 / (len(list)-1))\n",
    "        var_i.append(val1)\n",
    "    var = sum(var_i)\n",
    "    return var\n",
    "var_1 = SD(dataset1,d1_mean)\n",
    "var_2 = SD(dataset2,d2_mean)\n",
    "\n",
    "F_test = var_1/var_2\n",
    "print(\"F test for '10,20,30,40,50' is \", F_test)"
   ]
  },
  {
   "cell_type": "code",
   "execution_count": null,
   "metadata": {},
   "outputs": [],
   "source": []
  }
 ],
 "metadata": {
  "kernelspec": {
   "display_name": "Python 3",
   "language": "python",
   "name": "python3"
  },
  "language_info": {
   "codemirror_mode": {
    "name": "ipython",
    "version": 3
   },
   "file_extension": ".py",
   "mimetype": "text/x-python",
   "name": "python",
   "nbconvert_exporter": "python",
   "pygments_lexer": "ipython3",
   "version": "3.6.4"
  }
 },
 "nbformat": 4,
 "nbformat_minor": 2
}
