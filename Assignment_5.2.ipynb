{
 "cells": [
  {
   "cell_type": "raw",
   "metadata": {},
   "source": [
    "Problem Statement 1:\n",
    "Using the following data, perform a oneway analysis of variance using α=.05. Write up\n",
    "the results in APA format.\n",
    "\n",
    "[Group1: 51, 45, 33, 45, 67]\n",
    "[Group2: 23, 43, 23, 43, 45]\n",
    "[Group3: 56, 76, 74, 87, 56]"
   ]
  },
  {
   "cell_type": "code",
   "execution_count": 35,
   "metadata": {},
   "outputs": [
    {
     "name": "stdout",
     "output_type": "stream",
     "text": [
      "Since F_stat is grater than F_cric , we reject the null hypothesis\n",
      "F(2,12)= 9.747205503009457 , p<0.05, n**2= 0.61898001528885\n"
     ]
    }
   ],
   "source": [
    "G1 = [51,45,33,45,67]\n",
    "G2 = [23,43,23,43,45]\n",
    "G3 = [56,76,74,87,56]\n",
    "\n",
    "G1_mean = sum(G1)/len(G1)\n",
    "G2_mean = sum(G2)/len(G2)\n",
    "G3_mean = sum(G3)/len(G3)\n",
    "\n",
    "#Finding Variance for each group\n",
    "def variance(list, mean):\n",
    "    var_i = []\n",
    "    for i in list:\n",
    "        val1 = ((i - mean)**2 / (len(list)-1))\n",
    "        var_i.append(val1)\n",
    "    var = sum(var_i)\n",
    "    return var\n",
    "    \n",
    "var_G1 = variance(G1,G1_mean)\n",
    "var_G2 = variance(G2,G2_mean)\n",
    "var_G3 = variance(G3,G3_mean)\n",
    "#Within\n",
    "var_within = (var_G1+var_G2+var_G3) / 3\n",
    "df_within = (len(G1)+len(G2)+len(G3)) -3\n",
    "ss_witin = var_within * df_within\n",
    "\n",
    "#Grand\n",
    "G_mean = (G1_mean + G2_mean + G3_mean) / 3\n",
    "Grand_Mean = [G1_mean,G2_mean,G3_mean]\n",
    "G_var = variance(Grand_Mean,G_mean)\n",
    "\n",
    "var_between = G_var * 5\n",
    "\n",
    "#Between\n",
    "df_between = 3-1 # number of groups -1\n",
    "G_between = var_between*df_between\n",
    "\n",
    "#Calculating F\n",
    "\n",
    "F = var_between / var_within\n",
    "F_critical = 3.89 # using F table for F(2,12)\n",
    "\n",
    "if F> F_critical:\n",
    "    print(\"Since F_stat is grater than F_cric , we reject the null hypothesis\")\n",
    "else:\n",
    "    print(\"Accepting the null hypothesis\")\n",
    "\n",
    "#Effective Size\n",
    "n_2 = G_between / (G_between + ss_witin)\n",
    "\n",
    "#APA writeup\n",
    "print(\"F(2,12)= %r , p<0.05, n**2= %r\" %(F, n_2))\n",
    "    "
   ]
  },
  {
   "cell_type": "code",
   "execution_count": null,
   "metadata": {},
   "outputs": [],
   "source": []
  }
 ],
 "metadata": {
  "kernelspec": {
   "display_name": "Python 3",
   "language": "python",
   "name": "python3"
  },
  "language_info": {
   "codemirror_mode": {
    "name": "ipython",
    "version": 3
   },
   "file_extension": ".py",
   "mimetype": "text/x-python",
   "name": "python",
   "nbconvert_exporter": "python",
   "pygments_lexer": "ipython3",
   "version": "3.6.4"
  }
 },
 "nbformat": 4,
 "nbformat_minor": 2
}
