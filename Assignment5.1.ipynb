{
 "cells": [
  {
   "cell_type": "raw",
   "metadata": {},
   "source": [
    "Is gender independent of education level? A random sample of 395 people were\n",
    "surveyed and each person was asked to report the highest education level they\n",
    "obtained. The data that resulted from the survey is summarized in the following table:\n",
    "High School Bachelors Masters Ph.d. Total\n",
    "Female 60 54 46 41 201\n",
    "Male 40 44 53 57 194\n",
    "Total 100 98 99 98 395\n",
    "Question: Are gender and education level dependent at 5% level of significance? In\n",
    "other words, given the data collected above, is there a relationship between the gender\n",
    "of an individual and the level of education that they have obtained?"
   ]
  },
  {
   "cell_type": "code",
   "execution_count": 4,
   "metadata": {},
   "outputs": [
    {
     "name": "stdout",
     "output_type": "stream",
     "text": [
      "We reject the null hypotesis and the data is not 5% in relationship\n"
     ]
    }
   ],
   "source": [
    "Female_education = [60,54,46,41]\n",
    "male_education = [40,44,53,57]\n",
    "total = [100,98,99,98]\n",
    "total_female = sum(Female_education)\n",
    "total_male = sum(male_education)\n",
    "in_total = sum(total)\n",
    "expected_f = []\n",
    "expected_m = []\n",
    "for i in range(len(Female_education)):\n",
    "    val_f = (total[i]*total_female) / in_total\n",
    "    expected_f.append(val_f)\n",
    "    val_m = (total[i]*total_male) / in_total\n",
    "    expected_m.append(val_m)\n",
    "chi_val_f1 = []\n",
    "for i in range(len(Female_education)):\n",
    "    chi_val_f = (Female_education[i] - expected_f[i])**2 / expected_f[i]\n",
    "    chi_val_f1.append(chi_val_f)\n",
    "    chi_val_f = (male_education[i] - expected_m[i])**2 / expected_m[i]\n",
    "    chi_val_f1.append(chi_val_f)\n",
    "chi_value = sum(chi_val_f1)\n",
    "#With the help of chi square table for degree of freedom 3 and significance 5%\n",
    "val_chi = 7.815\n",
    "if val_chi < chi_value:\n",
    "    print(\"We reject the null hypotesis and the data is not 5% in relationship\")\n",
    "else:\n",
    "     Print(\"Data is in a relationship with 5% significance.\")   "
   ]
  },
  {
   "cell_type": "code",
   "execution_count": null,
   "metadata": {},
   "outputs": [],
   "source": []
  }
 ],
 "metadata": {
  "kernelspec": {
   "display_name": "Python 3",
   "language": "python",
   "name": "python3"
  },
  "language_info": {
   "codemirror_mode": {
    "name": "ipython",
    "version": 3
   },
   "file_extension": ".py",
   "mimetype": "text/x-python",
   "name": "python",
   "nbconvert_exporter": "python",
   "pygments_lexer": "ipython3",
   "version": "3.6.4"
  }
 },
 "nbformat": 4,
 "nbformat_minor": 2
}
