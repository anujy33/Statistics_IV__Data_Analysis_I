{
 "cells": [
  {
   "cell_type": "raw",
   "metadata": {},
   "source": [
    "Given a sequence of n values x1, x2, ..., xn and a window size k>0, the k-th moving\n",
    "average of the given sequence is defined as follows:\n",
    "The moving average sequence has n-k+1 elements as shown below.\n",
    "The moving averages with k=4 of a ten-value sequence (n=10) is shown below\n",
    "i 1 2 3 4 5 6 7 8 9 10\n",
    "===== == == == == == == == == == ==\n",
    "Input 10 20 30 40 50 60 70 80 90 100\n",
    "y1 25 = (10+20+30+40)/4\n",
    "y2   35 = (20+30+40+50)/4\n",
    "y3     45 = (30+40+50+60)/4\n",
    "y4       55 = (40+50+60+70)/4\n",
    "y5         65 = (50+60+70+80)/4\n",
    "y6           75 = (60+70+80+90)/4\n",
    "y7             85 = (70+80+90+100)/4\n",
    "\n",
    "Thus, the moving average sequence has n-k+1=10-4+1=7 values.\n",
    "\n",
    "Problem Statement\n",
    "Write a function to find moving average in an array over a window:\n",
    "Test it over [3, 5, 7, 2, 8, 10, 11, 65, 72, 81, 99, 100, 150] and window of 3."
   ]
  },
  {
   "cell_type": "code",
   "execution_count": 78,
   "metadata": {},
   "outputs": [
    {
     "name": "stdout",
     "output_type": "stream",
     "text": [
      "Input [  3   5   7   2   8  10  11  65  72  81  99 100 150]\n",
      "Moving Average is as shown below\n",
      "1 \t 5.0\n",
      "2 \t 4.666666666666667\n",
      "3 \t 5.666666666666667\n",
      "4 \t 6.666666666666667\n",
      "5 \t 9.666666666666666\n",
      "6 \t 28.666666666666668\n",
      "7 \t 49.333333333333336\n",
      "8 \t 72.66666666666667\n",
      "9 \t 84.0\n",
      "10 \t 93.33333333333333\n",
      "11 \t 116.33333333333333\n",
      "In short :  [  5.           4.66666667   5.66666667   6.66666667   9.66666667\n",
      "  28.66666667  49.33333333  72.66666667  84.          93.33333333\n",
      " 116.33333333]\n"
     ]
    }
   ],
   "source": [
    "def moving_average(array, window):\n",
    "    length = len(array)\n",
    "    average_sequence = length - window + 1\n",
    "    print('Input', array)\n",
    "    print('Moving Average is as shown below')\n",
    "    sum1 = np.cumsum(array)\n",
    "    arr = []\n",
    "    for i in range(average_sequence):\n",
    "        if i == 0:\n",
    "            result = (sum1[2+i] ) / window\n",
    "            print(i+1, '\\t', end = ' ')\n",
    "            print(result)\n",
    "            arr.append(result)\n",
    "            continue\n",
    "        else:\n",
    "            result = (sum1[2+i] - sum1[i-1])/ window\n",
    "            arr.append(result)\n",
    "            print(i+1, '\\t' ,  end = ' ')\n",
    "            print(result)\n",
    "    print('In short : ', np.array(arr))\n",
    "            \n",
    "array1 = np.array([3, 5, 7, 2, 8, 10, 11, 65, 72, 81, 99, 100, 150])\n",
    "window = 3\n",
    "moving_average(array1, window)\n"
   ]
  }
 ],
 "metadata": {
  "kernelspec": {
   "display_name": "Python 3",
   "language": "python",
   "name": "python3"
  },
  "language_info": {
   "codemirror_mode": {
    "name": "ipython",
    "version": 3
   },
   "file_extension": ".py",
   "mimetype": "text/x-python",
   "name": "python",
   "nbconvert_exporter": "python",
   "pygments_lexer": "ipython3",
   "version": "3.6.4"
  }
 },
 "nbformat": 4,
 "nbformat_minor": 2
}
